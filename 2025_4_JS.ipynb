{
  "nbformat": 4,
  "nbformat_minor": 0,
  "metadata": {
    "colab": {
      "provenance": [],
      "authorship_tag": "ABX9TyMx2PtNRMIVCaLR1rNvdeH+",
      "include_colab_link": true
    },
    "kernelspec": {
      "name": "python3",
      "display_name": "Python 3"
    },
    "language_info": {
      "name": "python"
    }
  },
  "cells": [
    {
      "cell_type": "markdown",
      "metadata": {
        "id": "view-in-github",
        "colab_type": "text"
      },
      "source": [
        "<a href=\"https://colab.research.google.com/github/Sergio-Tolaba/2025_4_JS/blob/main/2025_4_JS.ipynb\" target=\"_parent\"><img src=\"https://colab.research.google.com/assets/colab-badge.svg\" alt=\"Open In Colab\"/></a>"
      ]
    },
    {
      "cell_type": "code",
      "source": [
        "!node -v"
      ],
      "metadata": {
        "colab": {
          "base_uri": "https://localhost:8080/"
        },
        "id": "z2d8lTOM8daK",
        "outputId": "16911cdd-a46c-47b5-c436-1ed692d1e7d8"
      },
      "execution_count": 2,
      "outputs": [
        {
          "output_type": "stream",
          "name": "stdout",
          "text": [
            "v20.19.0\n"
          ]
        }
      ]
    },
    {
      "cell_type": "code",
      "source": [
        "from IPython.core.magic import register_cell_magic\n",
        "\n",
        "@register_cell_magic\n",
        "def javascript(line, cell):\n",
        "    with open(\"temp_script.js\", \"w\") as f:\n",
        "        f.write(cell)\n",
        "    !node temp_script.js\n",
        "\n"
      ],
      "metadata": {
        "id": "pPe7LQlw9Oly"
      },
      "execution_count": 3,
      "outputs": []
    },
    {
      "cell_type": "markdown",
      "source": [
        "# Curso JS - FreeCodeCamp con Carlos AZAUSTRE"
      ],
      "metadata": {
        "id": "Y9nyLvcBDZCe"
      }
    },
    {
      "cell_type": "code",
      "source": [
        "%%javascript\n",
        "/*Variables: espacios reservados de memoria(cajas, que guardan números, texto, etc.\n",
        "Las utilizo cuando las necesito*/\n",
        "let dato;//Debilmente tipado: no declaro tipo de variable, queda definida con el valor asignado(E/=underfinde)\n",
        "console.log(dato);//Tipos Variables: numérica"
      ],
      "metadata": {
        "colab": {
          "base_uri": "https://localhost:8080/"
        },
        "id": "e_2TekJf_WyS",
        "outputId": "d0248049-467d-4db9-e2c2-ff49d31c853b"
      },
      "execution_count": 4,
      "outputs": [
        {
          "output_type": "stream",
          "name": "stdout",
          "text": [
            "\u001b[90mundefined\u001b[39m\n"
          ]
        }
      ]
    },
    {
      "cell_type": "code",
      "source": [
        "%%javascript\n"
      ],
      "metadata": {
        "colab": {
          "base_uri": "https://localhost:8080/"
        },
        "id": "ebK-uw77_fUp",
        "outputId": "e934b3c2-ff73-465b-f8de-219d5e08668d"
      },
      "execution_count": null,
      "outputs": [
        {
          "output_type": "stream",
          "name": "stdout",
          "text": [
            "[ \u001b[33m100\u001b[39m, \u001b[33m200\u001b[39m, \u001b[33m500\u001b[39m ]\n",
            "[ \u001b[33m121\u001b[39m, \u001b[33m242\u001b[39m, \u001b[33m605\u001b[39m ]\n"
          ]
        }
      ]
    }
  ]
}