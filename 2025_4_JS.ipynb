{
  "nbformat": 4,
  "nbformat_minor": 0,
  "metadata": {
    "colab": {
      "provenance": [],
      "authorship_tag": "ABX9TyNi5Cp2quV0AnBs4nXoStIM",
      "include_colab_link": true
    },
    "kernelspec": {
      "name": "python3",
      "display_name": "Python 3"
    },
    "language_info": {
      "name": "python"
    }
  },
  "cells": [
    {
      "cell_type": "markdown",
      "metadata": {
        "id": "view-in-github",
        "colab_type": "text"
      },
      "source": [
        "<a href=\"https://colab.research.google.com/github/Sergio-Tolaba/2025_4_JS/blob/main/2025_4_JS.ipynb\" target=\"_parent\"><img src=\"https://colab.research.google.com/assets/colab-badge.svg\" alt=\"Open In Colab\"/></a>"
      ]
    },
    {
      "cell_type": "code",
      "source": [
        "!node -v"
      ],
      "metadata": {
        "colab": {
          "base_uri": "https://localhost:8080/"
        },
        "id": "z2d8lTOM8daK",
        "outputId": "16911cdd-a46c-47b5-c436-1ed692d1e7d8"
      },
      "execution_count": 2,
      "outputs": [
        {
          "output_type": "stream",
          "name": "stdout",
          "text": [
            "v20.19.0\n"
          ]
        }
      ]
    },
    {
      "cell_type": "code",
      "source": [
        "from IPython.core.magic import register_cell_magic\n",
        "\n",
        "@register_cell_magic\n",
        "def javascript(line, cell):\n",
        "    with open(\"temp_script.js\", \"w\") as f:\n",
        "        f.write(cell)\n",
        "    !node temp_script.js\n",
        "\n"
      ],
      "metadata": {
        "id": "pPe7LQlw9Oly"
      },
      "execution_count": 2,
      "outputs": []
    },
    {
      "cell_type": "markdown",
      "source": [
        "# Curso JS - FreeCodeCamp con Carlos AZAUSTRE"
      ],
      "metadata": {
        "id": "Y9nyLvcBDZCe"
      }
    },
    {
      "cell_type": "markdown",
      "source": [
        "# 1.1 Variables: espacios reservados de memoria\n",
        "//Comentario de una línea\n",
        "/*\n",
        "*/ Comentario de dos o más líneas"
      ],
      "metadata": {
        "id": "c6E_IXjPKced"
      }
    },
    {
      "cell_type": "code",
      "source": [
        "%%javascript\n",
        "let dato;//Debilmente tipado: no declaro tipo de variable, queda definida con el valor asignado(E/=underfined)\n",
        "console.log(dato);//Tipos Variables(4): number, string, boolean(t/f),underfined"
      ],
      "metadata": {
        "colab": {
          "base_uri": "https://localhost:8080/"
        },
        "id": "e_2TekJf_WyS",
        "outputId": "d0248049-467d-4db9-e2c2-ff49d31c853b"
      },
      "execution_count": 4,
      "outputs": [
        {
          "output_type": "stream",
          "name": "stdout",
          "text": [
            "\u001b[90mundefined\u001b[39m\n"
          ]
        }
      ]
    },
    {
      "cell_type": "code",
      "source": [
        "%%javascript\n",
        "dato=3;\n",
        "console.log(dato);\n",
        "let miNumero=1\n",
        "console.log(typeof(miNumero))\n",
        "let mystr=\"Hola Mundo\"//\"\",'',``\n",
        "console.log(mystr)\n"
      ],
      "metadata": {
        "colab": {
          "base_uri": "https://localhost:8080/"
        },
        "id": "ebK-uw77_fUp",
        "outputId": "74384d1e-7737-46b5-962d-deb1a92f8f02"
      },
      "execution_count": 12,
      "outputs": [
        {
          "output_type": "stream",
          "name": "stdout",
          "text": [
            "\u001b[33m3\u001b[39m\n",
            "number\n",
            "Hola Mundo\n"
          ]
        }
      ]
    },
    {
      "cell_type": "markdown",
      "source": [
        "# Operadores\n",
        "* matemáticos (+,-,*,/,%,**,x++,x--,-x,+\"123\"=>123 //\n",
        "incremento-decremento =>pre ++x, post x++)\n",
        "* booleanos=>true/false (!true es false) y doble negacion:!!true es true y viceversa con false\n",
        "* relacionales o de comparación(== débil, === fuerte)\n",
        "* lógicos"
      ],
      "metadata": {
        "id": "QIqydwekLIob"
      }
    },
    {
      "cell_type": "code",
      "source": [
        "%%javascript\n",
        "let suma = 5 + 5 //suma (concatena str),resta, multip, div, modulo(%), potencia(**)\n",
        "console.log(suma)\n",
        "let div = 3/0\n",
        "console.log(div)//infinity( IEEE 754) // python=> ZeroDivisionError: division by zero"
      ],
      "metadata": {
        "colab": {
          "base_uri": "https://localhost:8080/"
        },
        "id": "2xQCfbKELPCw",
        "outputId": "77181933-6442-4d69-fb35-b81f94abd142"
      },
      "execution_count": 4,
      "outputs": [
        {
          "output_type": "stream",
          "name": "stdout",
          "text": [
            "\u001b[33m10\u001b[39m\n",
            "\u001b[33mInfinity\u001b[39m\n"
          ]
        }
      ]
    },
    {
      "cell_type": "code",
      "source": [
        "%%javascript\n",
        "let frase = \"Hola\"+ \" Mundo\" + \"!\"\n",
        "console.log(frase)"
      ],
      "metadata": {
        "colab": {
          "base_uri": "https://localhost:8080/"
        },
        "id": "QZWf0PdvpoEl",
        "outputId": "4cea5254-7d83-493e-8193-59d80a856b4c"
      },
      "execution_count": 6,
      "outputs": [
        {
          "output_type": "stream",
          "name": "stdout",
          "text": [
            "Hola Mundo!\n"
          ]
        }
      ]
    },
    {
      "cell_type": "code",
      "source": [
        "%%javascript\n",
        "//operador Incremental\n",
        "//pre incremtal x = ++x\n",
        "let x = 1\n",
        "r = ++x\n",
        "console.log('pre incremental', r)"
      ],
      "metadata": {
        "colab": {
          "base_uri": "https://localhost:8080/"
        },
        "id": "PetezR--rwOC",
        "outputId": "0f88067e-955f-4a2e-e996-54d637c2fcfb"
      },
      "execution_count": 12,
      "outputs": [
        {
          "output_type": "stream",
          "name": "stdout",
          "text": [
            "pre incremental \u001b[33m2\u001b[39m\n"
          ]
        }
      ]
    },
    {
      "cell_type": "code",
      "source": [
        "%%javascript\n",
        "let y = 1\n",
        "z = y++ //primero se iguala z=y=1, luego se incrementa y en uno\n",
        "console.log('post incremental', z, y)\n"
      ],
      "metadata": {
        "colab": {
          "base_uri": "https://localhost:8080/"
        },
        "id": "JzfggKn-s-bm",
        "outputId": "07feb13d-989b-48a4-994b-ac4941bcfd24"
      },
      "execution_count": 11,
      "outputs": [
        {
          "output_type": "stream",
          "name": "stdout",
          "text": [
            "post incremental \u001b[33m1\u001b[39m \u001b[33m2\u001b[39m\n"
          ]
        }
      ]
    }
  ]
}